{
  "cells": [
    {
      "cell_type": "code",
      "source": [
        "#importing the required libraries\n",
        "import random"
      ],
      "metadata": {
        "id": "QDIfPiTdueCR"
      },
      "execution_count": null,
      "outputs": []
    },
    {
      "cell_type": "code",
      "source": [
        "# a function to get the user choice\n",
        "def get_user_choice():\n",
        "    # displaying the choices to the user\n",
        "    user_choice = input(\"Choose rock, paper, or scissors: \").lower()\n",
        "    while user_choice not in [\"rock\", \"paper\", \"scissors\"]:\n",
        "        print(\"Incorrect choice. Please choose rock, paper, or scissors.\")\n",
        "        user_choice = input(\"Choose rock, paper, or scissors: \").lower()\n",
        "    return user_choice"
      ],
      "metadata": {
        "id": "tgmtTizxuhU4"
      },
      "execution_count": null,
      "outputs": []
    },
    {
      "cell_type": "code",
      "source": [
        "# a function to pick a choice randomly onn computer's behalf\n",
        "def get_computer_choice():\n",
        "    return random.choice([\"rock\", \"paper\", \"scissors\"])"
      ],
      "metadata": {
        "id": "pAyB2cCFwLgc"
      },
      "execution_count": null,
      "outputs": []
    },
    {
      "cell_type": "code",
      "source": [
        "# a function to decide who wins the game\n",
        "def determine_winner(user_choice, computer_choice):\n",
        "    if user_choice == computer_choice:\n",
        "        return \"It's a tie!\"\n",
        "    elif (\n",
        "        (user_choice == \"rock\" and computer_choice == \"scissors\") or\n",
        "        (user_choice == \"paper\" and computer_choice == \"rock\") or\n",
        "        (user_choice == \"scissors\" and computer_choice == \"paper\")\n",
        "    ):\n",
        "        return \"You win! GREAT\"\n",
        "    else:\n",
        "        return \"You lose! TRY AGAIN \""
      ],
      "metadata": {
        "id": "mmDrRYTnwOSM"
      },
      "execution_count": null,
      "outputs": []
    },
    {
      "cell_type": "code",
      "execution_count": null,
      "metadata": {
        "colab": {
          "base_uri": "https://localhost:8080/"
        },
        "id": "envizNfJm2wb",
        "outputId": "0abd44b0-a86d-4bbc-dfdd-3e719dbc233b"
      },
      "outputs": [
        {
          "output_type": "stream",
          "name": "stdout",
          "text": [
            "\n",
            "WELCOME To The Rock, Paper, Scissors Game\n",
            "1. Play Game\n",
            "2. Quit\n",
            "Enter your choice (1-2): 1\n",
            "Choose rock, paper, or scissors: rock\n",
            "\n",
            "Your choice: rock\n",
            "Computer's choice: scissors\n",
            "You win! GREAT\n",
            "\n",
            "Current Score - You: 1, Computer: 0\n",
            "\n",
            "WELCOME To The Rock, Paper, Scissors Game\n",
            "1. Play Game\n",
            "2. Quit\n",
            "Enter your choice (1-2): 1\n",
            "Choose rock, paper, or scissors: paper\n",
            "\n",
            "Your choice: paper\n",
            "Computer's choice: scissors\n",
            "You lose! TRY AGAIN \n",
            "\n",
            "Current Score - You: 1, Computer: 1\n",
            "\n",
            "WELCOME To The Rock, Paper, Scissors Game\n",
            "1. Play Game\n",
            "2. Quit\n",
            "Enter your choice (1-2): 1\n",
            "Choose rock, paper, or scissors: scissors\n",
            "\n",
            "Your choice: scissors\n",
            "Computer's choice: rock\n",
            "You lose! TRY AGAIN \n",
            "\n",
            "Current Score - You: 1, Computer: 2\n",
            "\n",
            "WELCOME To The Rock, Paper, Scissors Game\n",
            "1. Play Game\n",
            "2. Quit\n",
            "Enter your choice (1-2): 2\n",
            "Exiting the game. Goodbye!\n"
          ]
        }
      ],
      "source": [
        "# a Main Function to run the game\n",
        "def rock_paper_scissors_game():\n",
        "    # setting the initial scores to 0 for both\n",
        "    user_score = 0\n",
        "    computer_score = 0\n",
        "\n",
        "    while True:\n",
        "        print(\"\\nWELCOME To The Rock, Paper, Scissors Game\")\n",
        "        print(\"1. Play Game\")\n",
        "        print(\"2. Quit\")\n",
        "\n",
        "        userchoice = input(\"Enter your choice (1-2): \")\n",
        "\n",
        "        if userchoice == \"2\":\n",
        "            print(\"Exiting the game. Goodbye!\")\n",
        "            break\n",
        "        elif userchoice == \"1\":\n",
        "            user_choice = get_user_choice()   #calling above defined functions accordingly\n",
        "            computer_choice = get_computer_choice()\n",
        "\n",
        "            print(f\"\\nYour choice: {user_choice}\")\n",
        "            print(f\"Computer's choice: {computer_choice}\")\n",
        "\n",
        "            result = determine_winner(user_choice, computer_choice)\n",
        "            print(result)\n",
        "\n",
        "            # incrementing the scores accordingly\n",
        "            if \"win\" in result:\n",
        "                user_score += 1\n",
        "            elif \"lose\" in result:\n",
        "                computer_score += 1\n",
        "            elif \"tie\" in result:\n",
        "                user_score += 1\n",
        "                computer_score += 1\n",
        "            # Displaying both the scores\n",
        "            print(f\"\\nCurrent Score - You: {user_score}, Computer: {computer_score}\")\n",
        "\n",
        "        else:\n",
        "            print(\"Incorrect choice. Please enter 1 or 2.\")\n",
        "\n",
        "if __name__ == \"__main__\":\n",
        "    rock_paper_scissors_game()"
      ]
    }
  ],
  "metadata": {
    "colab": {
      "provenance": []
    },
    "kernelspec": {
      "display_name": "Python 3",
      "name": "python3"
    },
    "language_info": {
      "name": "python"
    }
  },
  "nbformat": 4,
  "nbformat_minor": 0
}