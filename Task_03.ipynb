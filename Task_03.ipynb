{
  "cells": [
    {
      "cell_type": "code",
      "source": [
        "# importing required libraries\n",
        "import random\n",
        "import string"
      ],
      "metadata": {
        "id": "l8APWAuttYno"
      },
      "execution_count": null,
      "outputs": []
    },
    {
      "cell_type": "code",
      "source": [
        "# a function to genrate the password according to user requirements\n",
        "def generate_password(length):\n",
        "    # Defining the character sets for password generation\n",
        "    uppercase_letters = string.ascii_uppercase\n",
        "    lowercase_letters = string.ascii_lowercase\n",
        "    digits = string.digits\n",
        "    special_characters = string.punctuation\n",
        "\n",
        "    # Combining the character sets\n",
        "    all_characters = uppercase_letters + lowercase_letters + digits + special_characters\n",
        "\n",
        "    # Ensuring that the password length is at least 8 characters\n",
        "    length = max(length, 8)\n",
        "\n",
        "    # Generating a random password using the combined character set\n",
        "    password = ''.join(random.choice(all_characters) for _ in range(length))\n",
        "\n",
        "    return password"
      ],
      "metadata": {
        "id": "Fh8Gjx-atikt"
      },
      "execution_count": null,
      "outputs": []
    },
    {
      "cell_type": "code",
      "execution_count": null,
      "metadata": {
        "colab": {
          "base_uri": "https://localhost:8080/"
        },
        "id": "XOW3YUaRm2FH",
        "outputId": "e9004524-2381-4335-984b-ad6b7c24a371"
      },
      "outputs": [
        {
          "output_type": "stream",
          "name": "stdout",
          "text": [
            "WELCOME To The Password Generator\n",
            "Enter the desired length of the password: 100\n",
            "Generated Password: ~<AxdAQgW[{Yt0C4d3w>\\AX]S8L;fMI~]6/Zzw.?gR<r3`q*Usv?4pzFmTUA>'x*I70=05]^kN?,ls^PUah&R!r*Fyi<lQ#8paE+\n"
          ]
        }
      ],
      "source": [
        "# a Main Function to run the password generator\n",
        "def main():\n",
        "    print(\"WELCOME To The Password Generator\")\n",
        "\n",
        "    try:\n",
        "        # Ask the user to specify the desired length of the password\n",
        "        password_length = int(input(\"Enter the desired length of the password: \"))\n",
        "\n",
        "        # Generating and displaying the password\n",
        "        user_password = generate_password(password_length)\n",
        "        print(f\"Generated Password: {user_password}\")\n",
        "\n",
        "    except ValueError:\n",
        "        print(\"Incorrect input. Please enter a valid integer for the password length.\")\n",
        "\n",
        "if __name__ == \"__main__\":\n",
        "    main()"
      ]
    }
  ],
  "metadata": {
    "colab": {
      "provenance": []
    },
    "kernelspec": {
      "display_name": "Python 3",
      "name": "python3"
    },
    "language_info": {
      "name": "python"
    }
  },
  "nbformat": 4,
  "nbformat_minor": 0
}