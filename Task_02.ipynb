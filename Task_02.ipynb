{
  "nbformat": 4,
  "nbformat_minor": 0,
  "metadata": {
    "colab": {
      "provenance": []
    },
    "kernelspec": {
      "name": "python3",
      "display_name": "Python 3"
    },
    "language_info": {
      "name": "python"
    }
  },
  "cells": [
    {
      "cell_type": "code",
      "source": [
        "# a function to add two user based numbers\n",
        "def add(x, y):\n",
        "    return x + y"
      ],
      "metadata": {
        "id": "nM3VZQKZqf7l"
      },
      "execution_count": null,
      "outputs": []
    },
    {
      "cell_type": "code",
      "source": [
        "# a function to subtract two user based numbers\n",
        "def subtract(x, y):\n",
        "    return x - y"
      ],
      "metadata": {
        "id": "agHBvGwLqjZq"
      },
      "execution_count": null,
      "outputs": []
    },
    {
      "cell_type": "code",
      "source": [
        "# a function to multiply two user based numbers\n",
        "def multiply(x, y):\n",
        "    return x * y"
      ],
      "metadata": {
        "id": "LXSDKb-Tqlc4"
      },
      "execution_count": null,
      "outputs": []
    },
    {
      "cell_type": "code",
      "source": [
        "# a function to divide two user based numbers\n",
        "def divide(x, y):\n",
        "    if y != 0:      #checking if the denominator (y) equals to 0 or not\n",
        "        return x / y\n",
        "    else:\n",
        "        return \"Mathematical Error: Division by zero\""
      ],
      "metadata": {
        "id": "71AgFFSFqobz"
      },
      "execution_count": null,
      "outputs": []
    },
    {
      "cell_type": "code",
      "source": [
        "# a Main Function to run the calculator\n",
        "def calculator():\n",
        "    while True:\n",
        "        #displaying a user friendly display of the calculator\n",
        "        print(\"\\nCalculator\")\n",
        "        print(\"Operations To Perform:\")\n",
        "        print(\"1. Addition (+)\")\n",
        "        print(\"2. Subtraction (-)\")\n",
        "        print(\"3. Multiplication (*)\")\n",
        "        print(\"4. Division (/)\")\n",
        "        print(\"5. Exit the calculator\")\n",
        "\n",
        "        user_choice = input(\"Enter the operation number (1-5): \")\n",
        "\n",
        "        if user_choice == \"5\":\n",
        "            print(\"Exiting the calculator. Have a  Good Day !\")\n",
        "            break\n",
        "        num01 = float(input(\"Enter the first number: \"))\n",
        "        num02 = float(input(\"Enter the second number: \"))\n",
        "\n",
        "        # calling the above defined functions according to user choice\n",
        "        if user_choice == \"1\":\n",
        "            result = add(num01, num02)\n",
        "            print(f\"{num01} + {num02} = {result}\")\n",
        "\n",
        "        elif user_choice == \"2\":\n",
        "            result = subtract(num01, num02)\n",
        "            print(f\"{num01} - {num02} = {result}\")\n",
        "\n",
        "        elif user_choice == \"3\":\n",
        "            result = multiply(num01, num02)\n",
        "            print(f\"{num01} * {num02} = {result}\")\n",
        "\n",
        "        elif user_choice == \"4\":\n",
        "            result = divide(num01, num02)\n",
        "            print(f\"{num01} / {num02} = {result}\")\n",
        "\n",
        "        else:\n",
        "            print(\"Incorrect operation number. Please enter a number between 1 and 5.\")\n",
        "\n",
        "if __name__ == \"__main__\":\n",
        "    calculator()\n"
      ],
      "metadata": {
        "colab": {
          "base_uri": "https://localhost:8080/"
        },
        "id": "aIejo0i2qrn6",
        "outputId": "cb0d0562-9887-43c1-f8e2-90b5620f30a5"
      },
      "execution_count": null,
      "outputs": [
        {
          "output_type": "stream",
          "name": "stdout",
          "text": [
            "\n",
            "Calculator\n",
            "Operations To Perform:\n",
            "1. Addition (+)\n",
            "2. Subtraction (-)\n",
            "3. Multiplication (*)\n",
            "4. Division (/)\n",
            "5. Exit the calculator\n",
            "Enter the operation number (1-5): 1\n",
            "Enter the first number: 17\n",
            "Enter the second number: 18\n",
            "17.0 + 18.0 = 35.0\n",
            "\n",
            "Calculator\n",
            "Operations To Perform:\n",
            "1. Addition (+)\n",
            "2. Subtraction (-)\n",
            "3. Multiplication (*)\n",
            "4. Division (/)\n",
            "5. Exit the calculator\n",
            "Enter the operation number (1-5): 2\n",
            "Enter the first number: 9\n",
            "Enter the second number: 3\n",
            "9.0 - 3.0 = 6.0\n",
            "\n",
            "Calculator\n",
            "Operations To Perform:\n",
            "1. Addition (+)\n",
            "2. Subtraction (-)\n",
            "3. Multiplication (*)\n",
            "4. Division (/)\n",
            "5. Exit the calculator\n",
            "Enter the operation number (1-5): 3\n",
            "Enter the first number: 8\n",
            "Enter the second number: 3\n",
            "8.0 * 3.0 = 24.0\n",
            "\n",
            "Calculator\n",
            "Operations To Perform:\n",
            "1. Addition (+)\n",
            "2. Subtraction (-)\n",
            "3. Multiplication (*)\n",
            "4. Division (/)\n",
            "5. Exit the calculator\n",
            "Enter the operation number (1-5): 4\n",
            "Enter the first number: 7\n",
            "Enter the second number: 0\n",
            "7.0 / 0.0 = Mathematical Error: Division by zero\n",
            "\n",
            "Calculator\n",
            "Operations To Perform:\n",
            "1. Addition (+)\n",
            "2. Subtraction (-)\n",
            "3. Multiplication (*)\n",
            "4. Division (/)\n",
            "5. Exit the calculator\n",
            "Enter the operation number (1-5): 5\n",
            "Exiting the calculator. Have a  Good Day !\n"
          ]
        }
      ]
    }
  ]
}