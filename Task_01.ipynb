{
  "nbformat": 4,
  "nbformat_minor": 0,
  "metadata": {
    "colab": {
      "provenance": []
    },
    "kernelspec": {
      "name": "python3",
      "display_name": "Python 3"
    },
    "language_info": {
      "name": "python"
    }
  },
  "cells": [
    {
      "cell_type": "code",
      "source": [
        "# importing the library required\n",
        "import os"
      ],
      "metadata": {
        "id": "WT4-wYR_iioR"
      },
      "execution_count": null,
      "outputs": []
    },
    {
      "cell_type": "code",
      "source": [
        "# a file to store the To Do List\n",
        "TO_DO_FILE = \"to_do.txt\""
      ],
      "metadata": {
        "id": "04fxL92Ril3n"
      },
      "execution_count": null,
      "outputs": []
    },
    {
      "cell_type": "code",
      "source": [
        "# Function for loading any existing To Do List from file if any\n",
        "def load_to_do_list():\n",
        "    to_do_list = []\n",
        "\n",
        "    if os.path.exists(TO_DO_FILE):\n",
        "        with open(TO_DO_FILE, \"r\") as file:\n",
        "            to_do_list = file.read().splitlines()\n",
        "\n",
        "    return to_do_list"
      ],
      "metadata": {
        "id": "28VgO8p8iopS"
      },
      "execution_count": null,
      "outputs": []
    },
    {
      "cell_type": "code",
      "source": [
        "# a function to save the To Do List to the File\n",
        "def save_to_do_list(to_do_list):\n",
        "    with open(TO_DO_FILE, \"w\") as file:\n",
        "        file.write(\"\\n\".join(to_do_list))"
      ],
      "metadata": {
        "id": "KjYmHndqis4F"
      },
      "execution_count": null,
      "outputs": []
    },
    {
      "cell_type": "code",
      "source": [
        "# a function for user friendly display\n",
        "def display_menu():\n",
        "    print(\"WELCOME To The To-Do List Menu:\")\n",
        "    print(\"1. View the To-Do List\")\n",
        "    print(\"2. Add any Task\")\n",
        "    print(\"3. Remove any Task\")\n",
        "    print(\"4. Exit the To Do List\")\n",
        "    print(\"Pick any one of the above choices using their index ( 1 - 4 )\")"
      ],
      "metadata": {
        "id": "5PKVR67piwiq"
      },
      "execution_count": null,
      "outputs": []
    },
    {
      "cell_type": "code",
      "source": [
        "# a function to display the current To Do List\n",
        "def view_to_do_list(to_do_list):\n",
        "    print(\"\\nTo-Do List:\")\n",
        "    if not to_do_list:\n",
        "        print(\"No tasks yet.\")\n",
        "    else:\n",
        "        for index, task in enumerate(to_do_list, start=1):\n",
        "            print(f\"{index}. {task}\")"
      ],
      "metadata": {
        "id": "FKz9DmvYi1re"
      },
      "execution_count": null,
      "outputs": []
    },
    {
      "cell_type": "code",
      "source": [
        "# a function to add any task in the To Do List\n",
        "def add_task(to_do_list, task):\n",
        "    to_do_list.append(task)\n",
        "    print(f\"\\nTask '{task}' added to the to-do list.\")\n",
        "    save_to_do_list(to_do_list)"
      ],
      "metadata": {
        "id": "u6J54-pEi5q_"
      },
      "execution_count": null,
      "outputs": []
    },
    {
      "cell_type": "code",
      "source": [
        "# a function to remove any task from the To Do List\n",
        "def remove_task(to_do_list, task_index):\n",
        "    if 1 <= task_index <= len(to_do_list):\n",
        "        removed_task = to_do_list.pop(task_index - 1)\n",
        "        print(f\"\\nTask '{removed_task}' removed from the to-do list.\")\n",
        "        save_to_do_list(to_do_list)\n",
        "    else:\n",
        "        print(\"\\nInvalid task index.\")"
      ],
      "metadata": {
        "id": "oOQnw9JKi92_"
      },
      "execution_count": null,
      "outputs": []
    },
    {
      "cell_type": "code",
      "execution_count": null,
      "metadata": {
        "colab": {
          "base_uri": "https://localhost:8080/"
        },
        "id": "j0ndhUarlVc4",
        "outputId": "24b66e01-cfcd-4752-9647-b60f39b866a8"
      },
      "outputs": [
        {
          "output_type": "stream",
          "name": "stdout",
          "text": [
            "WELCOME To The To-Do List Menu:\n",
            "1. View the To-Do List\n",
            "2. Add any Task\n",
            "3. Remove any Task\n",
            "4. Exit the To Do List\n",
            "Pick any one of the above choices using their index ( 1 - 4 )\n",
            "Enter your choice : 1\n",
            "\n",
            "To-Do List:\n",
            "No tasks yet.\n",
            "WELCOME To The To-Do List Menu:\n",
            "1. View the To-Do List\n",
            "2. Add any Task\n",
            "3. Remove any Task\n",
            "4. Exit the To Do List\n",
            "Pick any one of the above choices using their index ( 1 - 4 )\n",
            "Enter your choice : 2\n",
            "Enter the task: cooking\n",
            "\n",
            "Task 'cooking' added to the to-do list.\n",
            "WELCOME To The To-Do List Menu:\n",
            "1. View the To-Do List\n",
            "2. Add any Task\n",
            "3. Remove any Task\n",
            "4. Exit the To Do List\n",
            "Pick any one of the above choices using their index ( 1 - 4 )\n",
            "Enter your choice : 1\n",
            "\n",
            "To-Do List:\n",
            "1. cooking\n",
            "WELCOME To The To-Do List Menu:\n",
            "1. View the To-Do List\n",
            "2. Add any Task\n",
            "3. Remove any Task\n",
            "4. Exit the To Do List\n",
            "Pick any one of the above choices using their index ( 1 - 4 )\n",
            "Enter your choice : 3\n",
            "Enter the task index to remove: 1\n",
            "\n",
            "Task 'cooking' removed from the to-do list.\n",
            "WELCOME To The To-Do List Menu:\n",
            "1. View the To-Do List\n",
            "2. Add any Task\n",
            "3. Remove any Task\n",
            "4. Exit the To Do List\n",
            "Pick any one of the above choices using their index ( 1 - 4 )\n",
            "Enter your choice : 1\n",
            "\n",
            "To-Do List:\n",
            "No tasks yet.\n",
            "WELCOME To The To-Do List Menu:\n",
            "1. View the To-Do List\n",
            "2. Add any Task\n",
            "3. Remove any Task\n",
            "4. Exit the To Do List\n",
            "Pick any one of the above choices using their index ( 1 - 4 )\n",
            "Enter your choice : 4\n",
            "Exiting the to-do list application. Have a Good day!\n"
          ]
        }
      ],
      "source": [
        "# a Main function to run the To Do List\n",
        "def main():\n",
        "    to_do_list = load_to_do_list()\n",
        "\n",
        "    while True:\n",
        "        display_menu()\n",
        "\n",
        "        user_choice = input(\"Enter your choice : \")\n",
        "        # calling the functions according to user choice\n",
        "        if user_choice == \"1\":\n",
        "            view_to_do_list(to_do_list)\n",
        "        elif user_choice == \"2\":\n",
        "            task = input(\"Enter the task: \")\n",
        "            add_task(to_do_list, task)\n",
        "        elif user_choice == \"3\":\n",
        "            task_index = int(input(\"Enter the task index to remove: \"))\n",
        "            remove_task(to_do_list, task_index)\n",
        "        elif user_choice == \"4\":\n",
        "            print(\"Exiting the to-do list application. Have a Good day!\")\n",
        "            break\n",
        "        else:\n",
        "            print(\"Please enter a correct choice (number btw 1 - 4)\")\n",
        "\n",
        "if __name__ == \"__main__\":\n",
        "    main()\n"
      ]
    }
  ]
}